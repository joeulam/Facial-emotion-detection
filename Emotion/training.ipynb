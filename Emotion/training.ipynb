{
 "cells": [
  {
   "cell_type": "code",
   "execution_count": 2,
   "id": "0cc3b03d-040c-400f-9696-00fe2a6ea81b",
   "metadata": {},
   "outputs": [
    {
     "name": "stderr",
     "output_type": "stream",
     "text": [
      "c:\\Python311\\Lib\\site-packages\\numpy\\_distributor_init.py:30: UserWarning: loaded more than 1 DLL from .libs:\n",
      "c:\\Python311\\Lib\\site-packages\\numpy\\.libs\\libopenblas.FB5AE2TYXYH2IJRDKGDGQ3XBKLKTF43H.gfortran-win_amd64.dll\n",
      "c:\\Python311\\Lib\\site-packages\\numpy\\.libs\\libopenblas64__v0.3.23-gcc_10_3_0.dll\n",
      "  warnings.warn(\"loaded more than 1 DLL from .libs:\"\n"
     ]
    },
    {
     "name": "stdout",
     "output_type": "stream",
     "text": [
      "2.12.0\n"
     ]
    }
   ],
   "source": [
    "import tensorflow as tf\n",
    "print(tf.__version__)\n",
    "import cv2\n",
    "from pathlib import Path\n",
    "import numpy as np\n",
    "from tensorflow import keras\n",
    "from tensorflow.keras import layers\n",
    "from tensorflow.keras.models import Sequential\n",
    "import matplotlib.pyplot as plt\n",
    "import PIL\n",
    "import os"
   ]
  },
  {
   "cell_type": "code",
   "execution_count": 3,
   "id": "1d165476",
   "metadata": {},
   "outputs": [
    {
     "name": "stdout",
     "output_type": "stream",
     "text": [
      "Num GPUs Available:  0\n"
     ]
    }
   ],
   "source": [
    "print(\"Num GPUs Available: \", len(tf.config.list_physical_devices('GPU')))\n"
   ]
  },
  {
   "cell_type": "code",
   "execution_count": 4,
   "id": "95551027-8b52-4f5b-bdc6-cdfbafceef2c",
   "metadata": {},
   "outputs": [],
   "source": [
    "local_dataset_path = \"C:/Users/joeul/OneDrive/Documents/GitHub/Facial-emotion-detection/Emotion/train\"\n",
    "data_dir = Path(local_dataset_path)\n",
    "image_count = len(list(data_dir.glob('*/*.png')))\n"
   ]
  },
  {
   "cell_type": "code",
   "execution_count": 5,
   "id": "ebd25aa7-f419-4cfc-a5bb-82a534f07f11",
   "metadata": {},
   "outputs": [
    {
     "name": "stdout",
     "output_type": "stream",
     "text": [
      "28709\n"
     ]
    }
   ],
   "source": [
    "print(image_count)"
   ]
  },
  {
   "cell_type": "code",
   "execution_count": 6,
   "id": "eec65e6f-10da-430b-a381-67f268bc5bd6",
   "metadata": {},
   "outputs": [],
   "source": [
    "angry = list(data_dir.glob('angry/*'))\n",
    "disgusted = list(data_dir.glob('disgusted/*'))\n",
    "fearful = list(data_dir.glob('fearful/*'))\n",
    "happy = list(data_dir.glob('happy/*'))\n",
    "neutral = list(data_dir.glob('neutral/*'))\n",
    "sad = list(data_dir.glob('sad/*'))\n",
    "surprised = list(data_dir.glob('surprised/*'))"
   ]
  },
  {
   "cell_type": "code",
   "execution_count": 7,
   "id": "433bf39a-a4e4-4d9f-a473-23b1a8ba96de",
   "metadata": {},
   "outputs": [],
   "source": [
    "batch_size = 32\n",
    "img_height = 180\n",
    "img_width = 180"
   ]
  },
  {
   "cell_type": "code",
   "execution_count": 8,
   "id": "0a330659-5528-4e78-8a42-2ace592f1481",
   "metadata": {},
   "outputs": [
    {
     "name": "stdout",
     "output_type": "stream",
     "text": [
      "Found 28709 files belonging to 7 classes.\n",
      "Using 22968 files for training.\n"
     ]
    }
   ],
   "source": [
    "train_ds = tf.keras.utils.image_dataset_from_directory(\n",
    "  data_dir,\n",
    "  validation_split=0.2,\n",
    "  subset=\"training\",\n",
    "  seed=123,\n",
    "  image_size=(img_height, img_width),\n",
    "  batch_size=batch_size)"
   ]
  },
  {
   "cell_type": "code",
   "execution_count": 9,
   "id": "4cefa9c6-ae51-495c-8e5b-14128af6304c",
   "metadata": {},
   "outputs": [
    {
     "name": "stdout",
     "output_type": "stream",
     "text": [
      "Found 28709 files belonging to 7 classes.\n",
      "Using 5741 files for validation.\n"
     ]
    }
   ],
   "source": [
    "val_ds = tf.keras.utils.image_dataset_from_directory(\n",
    "  data_dir,\n",
    "  validation_split=0.2,\n",
    "  subset=\"validation\",\n",
    "  seed=123,\n",
    "  image_size=(img_height, img_width),\n",
    "  batch_size=batch_size)"
   ]
  },
  {
   "cell_type": "code",
   "execution_count": 10,
   "id": "8b1dbb10-ff03-478d-a447-52a56e848b04",
   "metadata": {},
   "outputs": [
    {
     "name": "stdout",
     "output_type": "stream",
     "text": [
      "['angry', 'disgusted', 'fearful', 'happy', 'neutral', 'sad', 'surprised']\n"
     ]
    }
   ],
   "source": [
    "class_names = train_ds.class_names\n",
    "print(class_names)"
   ]
  },
  {
   "cell_type": "code",
   "execution_count": 11,
   "id": "c519909e-4aa2-44c8-aed0-21fd4df762b8",
   "metadata": {},
   "outputs": [
    {
     "name": "stdout",
     "output_type": "stream",
     "text": [
      "(32, 180, 180, 3)\n",
      "(32,)\n"
     ]
    }
   ],
   "source": [
    "for image_batch, labels_batch in train_ds:\n",
    "  print(image_batch.shape)\n",
    "  print(labels_batch.shape)\n",
    "  break"
   ]
  },
  {
   "cell_type": "code",
   "execution_count": 12,
   "id": "a684b4a7-d348-4306-a69d-5f0038771834",
   "metadata": {},
   "outputs": [],
   "source": [
    "AUTOTUNE = tf.data.AUTOTUNE\n",
    "\n",
    "train_ds = train_ds.cache().shuffle(1000).prefetch(buffer_size=AUTOTUNE)\n",
    "val_ds = val_ds.cache().prefetch(buffer_size=AUTOTUNE)"
   ]
  },
  {
   "cell_type": "code",
   "execution_count": 13,
   "id": "3a88ede9-9a68-4957-98f1-058837d02d3f",
   "metadata": {},
   "outputs": [
    {
     "name": "stdout",
     "output_type": "stream",
     "text": [
      "0.08039649 0.9929194\n"
     ]
    }
   ],
   "source": [
    "normalization_layer =  tf.keras.layers.Rescaling(1./255)\n",
    "normalized_ds = train_ds.map(lambda x, y: (normalization_layer(x), y))\n",
    "image_batch, labels_batch = next(iter(normalized_ds))\n",
    "first_image = image_batch[0]\n",
    "# Notice the pixel values are now in `[0,1]`.\n",
    "print(np.min(first_image), np.max(first_image))"
   ]
  },
  {
   "cell_type": "code",
   "execution_count": 23,
   "id": "abfe9372-6700-4e1e-9062-634a20c4932d",
   "metadata": {},
   "outputs": [],
   "source": [
    "# ADDING AUGMENTATION AND DROPOUT TO IMPROVE ACCURACY #"
   ]
  },
  {
   "cell_type": "code",
   "execution_count": 14,
   "id": "482b6d5f-b5f1-462c-af48-b3dee99796e6",
   "metadata": {},
   "outputs": [],
   "source": [
    "data_augmentation = keras.Sequential(\n",
    "  [\n",
    "    layers.RandomFlip(\"horizontal\",\n",
    "                      input_shape=(img_height,\n",
    "                                  img_width,\n",
    "                                  3)),\n",
    "    layers.RandomRotation(0.1),\n",
    "    layers.RandomZoom(0.1),\n",
    "  ]\n",
    ")"
   ]
  },
  {
   "cell_type": "code",
   "execution_count": 15,
   "id": "3891c758-cb29-49f9-bf61-ddb37c98085f",
   "metadata": {},
   "outputs": [],
   "source": [
    "num_classes = len(class_names)\n",
    "\n",
    "model = Sequential([\n",
    "  data_augmentation,\n",
    "    layers.Rescaling(1./255, input_shape=(img_height, img_width, 3)),\n",
    "    layers.Conv2D(16, 3, padding='same', activation='relu'),\n",
    "    layers.MaxPooling2D(),\n",
    "    layers.Conv2D(32, 3, padding='same', activation='relu'),\n",
    "    layers.MaxPooling2D(),\n",
    "    layers.Conv2D(64, 3, padding='same', activation='relu'),\n",
    "    layers.MaxPooling2D(),\n",
    "    layers.Conv2D(128, 3, padding='same', activation='relu'),  # Additional Conv2D layer\n",
    "    layers.MaxPooling2D(),  # Additional MaxPooling2D layer\n",
    "    layers.Flatten(),\n",
    "    layers.Dense(128, activation='relu'),\n",
    "    layers.Dropout(0.5),\n",
    "    layers.Dense(num_classes, activation='softmax')\n",
    "])"
   ]
  },
  {
   "cell_type": "code",
   "execution_count": 16,
   "id": "c92f1c5b-8dd6-474c-834b-f5365bae3933",
   "metadata": {},
   "outputs": [
    {
     "name": "stdout",
     "output_type": "stream",
     "text": [
      "Model: \"sequential_1\"\n",
      "_________________________________________________________________\n",
      " Layer (type)                Output Shape              Param #   \n",
      "=================================================================\n",
      " sequential (Sequential)     (None, 180, 180, 3)       0         \n",
      "                                                                 \n",
      " rescaling_1 (Rescaling)     (None, 180, 180, 3)       0         \n",
      "                                                                 \n",
      " conv2d (Conv2D)             (None, 180, 180, 16)      448       \n",
      "                                                                 \n",
      " max_pooling2d (MaxPooling2D  (None, 90, 90, 16)       0         \n",
      " )                                                               \n",
      "                                                                 \n",
      " conv2d_1 (Conv2D)           (None, 90, 90, 32)        4640      \n",
      "                                                                 \n",
      " max_pooling2d_1 (MaxPooling  (None, 45, 45, 32)       0         \n",
      " 2D)                                                             \n",
      "                                                                 \n",
      " conv2d_2 (Conv2D)           (None, 45, 45, 64)        18496     \n",
      "                                                                 \n",
      " max_pooling2d_2 (MaxPooling  (None, 22, 22, 64)       0         \n",
      " 2D)                                                             \n",
      "                                                                 \n",
      " conv2d_3 (Conv2D)           (None, 22, 22, 128)       73856     \n",
      "                                                                 \n",
      " max_pooling2d_3 (MaxPooling  (None, 11, 11, 128)      0         \n",
      " 2D)                                                             \n",
      "                                                                 \n",
      " flatten (Flatten)           (None, 15488)             0         \n",
      "                                                                 \n",
      " dense (Dense)               (None, 128)               1982592   \n",
      "                                                                 \n"
     ]
    },
    {
     "name": "stdout",
     "output_type": "stream",
     "text": [
      " dropout (Dropout)           (None, 128)               0         \n",
      "                                                                 \n",
      " dense_1 (Dense)             (None, 7)                 903       \n",
      "                                                                 \n",
      "=================================================================\n",
      "Total params: 2,080,935\n",
      "Trainable params: 2,080,935\n",
      "Non-trainable params: 0\n",
      "_________________________________________________________________\n"
     ]
    }
   ],
   "source": [
    "model.compile(optimizer='adam',\n",
    "              loss=tf.keras.losses.SparseCategoricalCrossentropy(from_logits=True),\n",
    "              metrics=['accuracy'])\n",
    "model.summary()\n"
   ]
  },
  {
   "cell_type": "code",
   "execution_count": 28,
   "id": "6bf3a286-db08-4349-8fab-37d399616f25",
   "metadata": {},
   "outputs": [],
   "source": [
    "checkpoint_path = \"training_4/cp.ckpt\"\n",
    "checkpoint_dir = os.path.dirname(checkpoint_path)\n",
    "\n",
    "# Create a callback that saves the model's weights\n",
    "cp_callback = tf.keras.callbacks.ModelCheckpoint(filepath=checkpoint_path,\n",
    "                                                 save_weights_only=True,\n",
    "                                                 verbose=1)\n",
    "model.save_weights(checkpoint_path.format(epoch=0))\n"
   ]
  },
  {
   "cell_type": "code",
   "execution_count": 29,
   "id": "0f7f4bfa-3fce-4eff-a16d-9451888cec3b",
   "metadata": {},
   "outputs": [
    {
     "name": "stdout",
     "output_type": "stream",
     "text": [
      "Epoch 1/15\n",
      "718/718 [==============================] - ETA: 0s - loss: 1.7560 - accuracy: 0.2815\n",
      "Epoch 1: saving model to training_1\\cp.ckpt\n",
      "718/718 [==============================] - 342s 473ms/step - loss: 1.7560 - accuracy: 0.2815 - val_loss: 1.6800 - val_accuracy: 0.3407\n",
      "Epoch 2/15\n",
      "718/718 [==============================] - ETA: 0s - loss: 1.6411 - accuracy: 0.3485\n",
      "Epoch 2: saving model to training_1\\cp.ckpt\n",
      "718/718 [==============================] - 318s 443ms/step - loss: 1.6411 - accuracy: 0.3485 - val_loss: 1.5249 - val_accuracy: 0.4071\n",
      "Epoch 3/15\n",
      "718/718 [==============================] - ETA: 0s - loss: 1.5366 - accuracy: 0.4008\n",
      "Epoch 3: saving model to training_1\\cp.ckpt\n",
      "718/718 [==============================] - 318s 444ms/step - loss: 1.5366 - accuracy: 0.4008 - val_loss: 1.4569 - val_accuracy: 0.4442\n",
      "Epoch 4/15\n",
      "718/718 [==============================] - ETA: 0s - loss: 1.4706 - accuracy: 0.4299\n",
      "Epoch 4: saving model to training_1\\cp.ckpt\n",
      "718/718 [==============================] - 327s 456ms/step - loss: 1.4706 - accuracy: 0.4299 - val_loss: 1.4404 - val_accuracy: 0.4450\n",
      "Epoch 5/15\n",
      "718/718 [==============================] - ETA: 0s - loss: 1.4301 - accuracy: 0.4478\n",
      "Epoch 5: saving model to training_1\\cp.ckpt\n",
      "718/718 [==============================] - 309s 430ms/step - loss: 1.4301 - accuracy: 0.4478 - val_loss: 1.4115 - val_accuracy: 0.4665\n",
      "Epoch 6/15\n",
      "718/718 [==============================] - ETA: 0s - loss: 1.3930 - accuracy: 0.4638\n",
      "Epoch 6: saving model to training_1\\cp.ckpt\n",
      "718/718 [==============================] - 313s 437ms/step - loss: 1.3930 - accuracy: 0.4638 - val_loss: 1.4215 - val_accuracy: 0.4538\n",
      "Epoch 7/15\n",
      "718/718 [==============================] - ETA: 0s - loss: 1.3652 - accuracy: 0.4750\n",
      "Epoch 7: saving model to training_1\\cp.ckpt\n",
      "718/718 [==============================] - 301s 418ms/step - loss: 1.3652 - accuracy: 0.4750 - val_loss: 1.3580 - val_accuracy: 0.4813\n",
      "Epoch 8/15\n",
      "718/718 [==============================] - ETA: 0s - loss: 1.3338 - accuracy: 0.4865\n",
      "Epoch 8: saving model to training_1\\cp.ckpt\n",
      "718/718 [==============================] - 326s 454ms/step - loss: 1.3338 - accuracy: 0.4865 - val_loss: 1.3416 - val_accuracy: 0.4762\n",
      "Epoch 9/15\n",
      "718/718 [==============================] - ETA: 0s - loss: 1.3145 - accuracy: 0.4923\n",
      "Epoch 9: saving model to training_1\\cp.ckpt\n",
      "718/718 [==============================] - 337s 469ms/step - loss: 1.3145 - accuracy: 0.4923 - val_loss: 1.3219 - val_accuracy: 0.4985\n",
      "Epoch 10/15\n",
      "718/718 [==============================] - ETA: 0s - loss: 1.2915 - accuracy: 0.5051\n",
      "Epoch 10: saving model to training_1\\cp.ckpt\n",
      "718/718 [==============================] - 322s 448ms/step - loss: 1.2915 - accuracy: 0.5051 - val_loss: 1.3236 - val_accuracy: 0.4963\n",
      "Epoch 11/15\n",
      "718/718 [==============================] - ETA: 0s - loss: 1.2827 - accuracy: 0.5091\n",
      "Epoch 11: saving model to training_1\\cp.ckpt\n",
      "718/718 [==============================] - 332s 462ms/step - loss: 1.2827 - accuracy: 0.5091 - val_loss: 1.3225 - val_accuracy: 0.4959\n",
      "Epoch 12/15\n",
      "718/718 [==============================] - ETA: 0s - loss: 1.2672 - accuracy: 0.5127\n",
      "Epoch 12: saving model to training_1\\cp.ckpt\n",
      "718/718 [==============================] - 312s 434ms/step - loss: 1.2672 - accuracy: 0.5127 - val_loss: 1.2947 - val_accuracy: 0.5095\n",
      "Epoch 13/15\n",
      "718/718 [==============================] - ETA: 0s - loss: 1.2549 - accuracy: 0.5232\n",
      "Epoch 13: saving model to training_1\\cp.ckpt\n",
      "718/718 [==============================] - 303s 422ms/step - loss: 1.2549 - accuracy: 0.5232 - val_loss: 1.3019 - val_accuracy: 0.5095\n",
      "Epoch 14/15\n",
      "718/718 [==============================] - ETA: 0s - loss: 1.2398 - accuracy: 0.5230\n",
      "Epoch 14: saving model to training_1\\cp.ckpt\n",
      "718/718 [==============================] - 310s 431ms/step - loss: 1.2398 - accuracy: 0.5230 - val_loss: 1.2757 - val_accuracy: 0.5179\n",
      "Epoch 15/15\n",
      "718/718 [==============================] - ETA: 0s - loss: 1.2286 - accuracy: 0.5293\n",
      "Epoch 15: saving model to training_1\\cp.ckpt\n",
      "718/718 [==============================] - 363s 506ms/step - loss: 1.2286 - accuracy: 0.5293 - val_loss: 1.2925 - val_accuracy: 0.5065\n"
     ]
    }
   ],
   "source": [
    "epochs = 15\n",
    "history = model.fit(\n",
    "  train_ds,\n",
    "  validation_data=val_ds,\n",
    "  epochs=epochs,\n",
    "  callbacks=[cp_callback]\n",
    ")"
   ]
  },
  {
   "cell_type": "code",
   "execution_count": 30,
   "id": "94da3e6a-50bb-4ce7-b743-e7e4c0c96cf7",
   "metadata": {},
   "outputs": [
    {
     "data": {
      "text/plain": [
       "['checkpoint', 'cp.ckpt.data-00000-of-00001', 'cp.ckpt.index']"
      ]
     },
     "execution_count": 30,
     "metadata": {},
     "output_type": "execute_result"
    }
   ],
   "source": [
    "os.listdir(checkpoint_dir)\n"
   ]
  },
  {
   "cell_type": "code",
   "execution_count": 31,
   "id": "f26f6f89-759d-49c7-aad2-cdb85072b254",
   "metadata": {},
   "outputs": [
    {
     "data": {
      "image/png": "[encoded data removed]",
      "text/plain": [
       "<Figure size 800x800 with 2 Axes>"
      ]
     },
     "metadata": {},
     "output_type": "display_data"
    }
   ],
   "source": [
    "acc = history.history['accuracy']\n",
    "val_acc = history.history['val_accuracy']\n",
    "\n",
    "loss = history.history['loss']\n",
    "val_loss = history.history['val_loss']\n",
    "\n",
    "epochs_range = range(epochs)\n",
    "\n",
    "plt.figure(figsize=(8, 8))\n",
    "plt.subplot(1, 2, 1)\n",
    "plt.plot(epochs_range, acc, label='Training Accuracy')\n",
    "plt.plot(epochs_range, val_acc, label='Validation Accuracy')\n",
    "plt.legend(loc='lower right')\n",
    "plt.title('Training and Validation Accuracy')\n",
    "\n",
    "plt.subplot(1, 2, 2)\n",
    "plt.plot(epochs_range, loss, label='Training Loss')\n",
    "plt.plot(epochs_range, val_loss, label='Validation Loss')\n",
    "plt.legend(loc='upper right')\n",
    "plt.title('Training and Validation Loss')\n",
    "plt.show()"
   ]
  },
  {
   "cell_type": "code",
   "execution_count": 32,
   "id": "fc04a0c4-25dd-425f-92c5-fe93f04287b8",
   "metadata": {},
   "outputs": [
    {
     "name": "stderr",
     "output_type": "stream",
     "text": [
      "WARNING:absl:Found untraced functions such as _jit_compiled_convolution_op, _jit_compiled_convolution_op, _jit_compiled_convolution_op, _update_step_xla while saving (showing 4 of 4). These functions will not be directly callable after loading.\n"
     ]
    },
    {
     "name": "stdout",
     "output_type": "stream",
     "text": [
      "INFO:tensorflow:Assets written to: ./emotion/assets\n"
     ]
    },
    {
     "name": "stderr",
     "output_type": "stream",
     "text": [
      "INFO:tensorflow:Assets written to: ./emotion/assets\n"
     ]
    }
   ],
   "source": [
    "model.save('./emotion/')"
   ]
  },
  {
   "cell_type": "code",
   "execution_count": null,
   "id": "a321d908-256f-4877-b45b-b87255c2c2f2",
   "metadata": {},
   "outputs": [],
   "source": []
  },
  {
   "cell_type": "code",
   "execution_count": null,
   "id": "6bb2618d-3c4b-47e5-a16e-708ec71c9ec3",
   "metadata": {},
   "outputs": [],
   "source": []
  }
 ],
 "metadata": {
  "kernelspec": {
   "display_name": "Python 3 (ipykernel)",
   "language": "python",
   "name": "python3"
  },
  "language_info": {
   "codemirror_mode": {
    "name": "ipython",
    "version": 3
   },
   "file_extension": ".py",
   "mimetype": "text/x-python",
   "name": "python",
   "nbconvert_exporter": "python",
   "pygments_lexer": "ipython3",
   "version": "3.11.3"
  }
 },
 "nbformat": 4,
 "nbformat_minor": 5
}
